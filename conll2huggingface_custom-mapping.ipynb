{
 "cells": [
  {
   "cell_type": "code",
   "execution_count": 1,
   "metadata": {},
   "outputs": [],
   "source": [
    "import re\n",
    "import json\n",
    "from collections import defaultdict, Counter"
   ]
  },
  {
   "cell_type": "markdown",
   "metadata": {},
   "source": [
    "# Custom Mapping"
   ]
  },
  {
   "cell_type": "code",
   "execution_count": 4,
   "metadata": {},
   "outputs": [],
   "source": [
    "def conll_to_json(input_file, output_file, class_mapping_file, custom_mapping):\n",
    "    data = []\n",
    "    current_sentence = {\"id\": \"0\", \"tokens\": [], \"ner_tags\": []}\n",
    "    sentence_id = 0\n",
    "    tag_counter = Counter()\n",
    "\n",
    "    # Invert the custom mapping for easier lookup\n",
    "    tag_dict = {v: k for k, v in custom_mapping.items()}\n",
    "\n",
    "    with open(input_file, 'r', encoding='utf-8') as f:\n",
    "        for line in f:\n",
    "            line = line.strip()\n",
    "            if line.startswith('-DOCSTART-') or line == '':\n",
    "                if current_sentence[\"tokens\"]:\n",
    "                    data.append(current_sentence)\n",
    "                    sentence_id += 1\n",
    "                    current_sentence = {\"id\": str(sentence_id), \"tokens\": [], \"ner_tags\": []}\n",
    "            else:\n",
    "                parts = line.split()\n",
    "                if len(parts) >= 4:\n",
    "                    token, _, _, ner_tag = parts[:4]\n",
    "                    current_sentence[\"tokens\"].append(token)\n",
    "                    if ner_tag in tag_dict:\n",
    "                        current_sentence[\"ner_tags\"].append(tag_dict[ner_tag])\n",
    "                        tag_counter[ner_tag] += 1\n",
    "                    else:\n",
    "                        print(f\"Warning: Tag '{ner_tag}' not found in mapping. Using 0 (O) instead.\")\n",
    "                        current_sentence[\"ner_tags\"].append(0)\n",
    "                        tag_counter['O'] += 1\n",
    "\n",
    "    if current_sentence[\"tokens\"]:\n",
    "        data.append(current_sentence)\n",
    "\n",
    "    # Write to JSON file\n",
    "    with open(output_file, 'w', encoding='utf-8') as f:\n",
    "        for item in data:\n",
    "            # Convert to the desired format\n",
    "            formatted_item = {\n",
    "                \"id\": item[\"id\"],\n",
    "                \"tokens\": item[\"tokens\"],\n",
    "                \"ner_tags\": item[\"ner_tags\"]\n",
    "            }\n",
    "            json.dump(formatted_item, f, ensure_ascii=False, separators=(',', ':'))\n",
    "            f.write('\\n')\n",
    "\n",
    "    # Write class mapping to a separate file\n",
    "    with open(class_mapping_file, 'w', encoding='utf-8') as f:\n",
    "        f.write(\"tag_mapping = {\\n\")\n",
    "        for idx, tag in sorted(custom_mapping.items()):\n",
    "            f.write(f\"    {idx}: '{tag}',\\n\")\n",
    "        f.write(\"}\\n\")\n",
    "\n",
    "    print(f\"Processed {len(data)} sentences.\")\n",
    "    print(f\"Found {len(custom_mapping)} unique NER tags: {', '.join(custom_mapping.values())}\")\n",
    "    print(f\"Tag counts: {dict(tag_counter)}\")\n",
    "    print(\"Tag Mapping:\")\n",
    "    for idx, tag in sorted(custom_mapping.items()):\n",
    "        print(f\"    {idx}: '{tag}',\")\n",
    "    print(f\"Data saved to {output_file}\")\n",
    "    print(f\"Class mapping saved to {class_mapping_file}\")\n",
    "\n",
    "# Custom mapping\n",
    "custom_map = {\n",
    "    0: 'O',\n",
    "    1: 'B-PER',\n",
    "    2: 'I-PER',\n",
    "    3: 'B-ORG',\n",
    "    4: 'I-ORG',\n",
    "    5: 'B-LOC',\n",
    "    6: 'I-LOC',\n",
    "    7: 'B-MISC',\n",
    "    8: 'I-MISC',\n",
    "}"
   ]
  },
  {
   "cell_type": "code",
   "execution_count": 5,
   "metadata": {},
   "outputs": [
    {
     "name": "stdout",
     "output_type": "stream",
     "text": [
      "\n",
      "Processed 3960 sentences.\n",
      "Found 9 unique NER tags: O, B-PER, I-PER, B-ORG, I-ORG, B-LOC, I-LOC, B-MISC, I-MISC\n",
      "Tag counts: {'O': 92746, 'B-ORG': 3216, 'B-LOC': 2299, 'B-MISC': 835, 'I-MISC': 1192, 'I-ORG': 2098, 'I-LOC': 878}\n",
      "Tag Mapping:\n",
      "    0: 'O',\n",
      "    1: 'B-PER',\n",
      "    2: 'I-PER',\n",
      "    3: 'B-ORG',\n",
      "    4: 'I-ORG',\n",
      "    5: 'B-LOC',\n",
      "    6: 'I-LOC',\n",
      "    7: 'B-MISC',\n",
      "    8: 'I-MISC',\n",
      "Data saved to train - No Per.json\n",
      "Class mapping saved to mapping_train.txt\n",
      "\n"
     ]
    }
   ],
   "source": [
    "# Usage\n",
    "conll_to_json(r'c:\\Users\\Sakib Ahmed\\Desktop\\dev_combined.conll', 'dataset_custom.json', 'tag_mapping_custom.txt', custom_mapping=custom_map)"
   ]
  }
 ],
 "metadata": {
  "kernelspec": {
   "display_name": "Python 3",
   "language": "python",
   "name": "python3"
  },
  "language_info": {
   "codemirror_mode": {
    "name": "ipython",
    "version": 3
   },
   "file_extension": ".py",
   "mimetype": "text/x-python",
   "name": "python",
   "nbconvert_exporter": "python",
   "pygments_lexer": "ipython3",
   "version": "3.12.7"
  }
 },
 "nbformat": 4,
 "nbformat_minor": 2
}
